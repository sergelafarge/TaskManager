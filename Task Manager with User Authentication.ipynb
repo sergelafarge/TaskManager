{
 "cells": [
  {
   "cell_type": "markdown",
   "metadata": {},
   "source": [
    "# 1. User Authentication"
   ]
  },
  {
   "cell_type": "markdown",
   "metadata": {},
   "source": [
    "### Registration\n",
    "- register_user(): This function handles the registration process. It takes the username and password as input, ensures the username is unique using the is_username_unique() function, hashes the password using the hash_password() function, and then stores the username and hashed password in a file (USER_CREDENTIALS_FILE).    \n",
    "- is_username_unique(): This function checks if the entered username already exists in the USER_CREDENTIALS_FILE.    \n",
    "- hash_password(): This function takes the password as input and returns its hashed version using the SHA-256 algorithm."
   ]
  },
  {
   "cell_type": "code",
   "execution_count": 1,
   "metadata": {},
   "outputs": [
    {
     "name": "stdout",
     "output_type": "stream",
     "text": [
      "Registration successful.\n"
     ]
    }
   ],
   "source": [
    "import hashlib\n",
    "import os\n",
    "\n",
    "USER_CREDENTIALS_FILE = \"user_credentials.txt\"\n",
    "\n",
    "def is_username_unique(username):\n",
    "    \"\"\"Checks if a username already exists in the user credentials file.\"\"\"\n",
    "    if not os.path.exists(USER_CREDENTIALS_FILE):\n",
    "        return True  # File doesn't exist, so username is unique\n",
    "\n",
    "    with open(USER_CREDENTIALS_FILE, \"r\") as file:\n",
    "        for line in file:\n",
    "            existing_username, _ = line.strip().split(\":\")\n",
    "            if existing_username == username:\n",
    "                return False  # Username exists\n",
    "    return True  # Username is unique\n",
    "\n",
    "def hash_password(password):\n",
    "    \"\"\"Hashes the given password using SHA-256.\"\"\"\n",
    "    hashed_password = hashlib.sha256(password.encode()).hexdigest()\n",
    "    return hashed_password\n",
    "\n",
    "def register_user():\n",
    "    \"\"\"Prompts the user for a username and password, \n",
    "    and stores the credentials securely.\"\"\"\n",
    "\n",
    "    while True:\n",
    "        username = input(\"Enter a username: \")\n",
    "        if is_username_unique(username):  # Check if username is unique\n",
    "            break\n",
    "        else:\n",
    "            print(\"Username already exists. Choose another.\")\n",
    "\n",
    "    password = input(\"Enter a password: \")\n",
    "    hashed_password = hash_password(password)  # Hash the password\n",
    "\n",
    "    with open(USER_CREDENTIALS_FILE, \"a\") as file:\n",
    "        file.write(f\"{username}:{hashed_password}\\n\")\n",
    "    print(\"Registration successful.\")\n",
    "\n",
    "register_user() #call register user to run the code."
   ]
  },
  {
   "cell_type": "markdown",
   "metadata": {},
   "source": [
    "### Login\n",
    "- login_user(): This function handles the login process. It prompts the user for their username and password, hashes the entered password, and then calls the verify_credentials() function to validate the credentials. If the credentials are valid, it grants access; otherwise, it displays an error message.    \n",
    "- verify_credentials(): This function reads the stored usernames and hashed passwords from the USER_CREDENTIALS_FILE and compares them with the entered credentials to validate the user."
   ]
  },
  {
   "cell_type": "code",
   "execution_count": 3,
   "metadata": {},
   "outputs": [
    {
     "name": "stdout",
     "output_type": "stream",
     "text": [
      "Login successful.\n"
     ]
    },
    {
     "data": {
      "text/plain": [
       "'sergelafarge'"
      ]
     },
     "execution_count": 3,
     "metadata": {},
     "output_type": "execute_result"
    }
   ],
   "source": [
    "def login_user():\n",
    "    \"\"\"Prompts the user for username and password, \n",
    "    and validates the credentials.\"\"\"\n",
    "\n",
    "    username = input(\"Enter your username: \")\n",
    "    password = input(\"Enter your password: \")\n",
    "    hashed_password = hash_password(password)\n",
    "\n",
    "    if verify_credentials(username, hashed_password):\n",
    "        print(\"Login successful.\")\n",
    "        return username  # Return username for further use\n",
    "    else:\n",
    "        print(\"Invalid username or password.\")\n",
    "        return None  # Login failed\n",
    "\n",
    "def verify_credentials(username, hashed_password):\n",
    "    \"\"\"Verifies the provided credentials against stored data.\"\"\"\n",
    "\n",
    "    if not os.path.exists(USER_CREDENTIALS_FILE):\n",
    "        return False  # No users registered\n",
    "\n",
    "    with open(USER_CREDENTIALS_FILE, \"r\") as file:\n",
    "        for line in file:\n",
    "            stored_username, stored_hashed_password = line.strip().split(\":\")\n",
    "            if stored_username == username and stored_hashed_password == hashed_password:\n",
    "                return True  # Credentials match\n",
    "    return False  # No match\n",
    "login_user() #call login user to run the code."
   ]
  },
  {
   "cell_type": "markdown",
   "metadata": {},
   "source": [
    "# 2. Add a Task\n",
    "- add_task(): This function prompts the user for a task description, generates a unique task ID using generate_unique_task_id(), sets the initial status of the task to \"Pending,\" and then saves the task to the user's task file using the save_task() function.    \n",
    "- generate_unique_task_id(): This function generates a unique ID for each task for a user.    \n",
    "- save_task(): This function saves the task details (task ID, description, and status) to the user's task file.    \n",
    "- get_task_file_path(): This function constructs the file path for a user's task file."
   ]
  },
  {
   "cell_type": "code",
   "execution_count": 11,
   "metadata": {},
   "outputs": [
    {
     "name": "stdout",
     "output_type": "stream",
     "text": [
      "Task added successfully.\n"
     ]
    }
   ],
   "source": [
    "import os\n",
    "\n",
    "TASKS_DIRECTORY = r\"C:\\Users\\serge\\OneDrive\\Desktop\\AIML Specialization\\Mandatory Courses\\PC AIML - Programming Refresher\\Projects\\tasks\"  # Absolute path\n",
    "\n",
    "def add_task(username):\n",
    "    \"\"\"Prompts the user for a task description,\n",
    "    assigns a unique ID, and adds the task.\"\"\"\n",
    "\n",
    "    task_description = input(\"Enter the task description: \")\n",
    "    task_id = generate_unique_task_id(username)  # Generate a unique Task ID\n",
    "    status = \"Pending\"\n",
    "\n",
    "    save_task(username, task_id, task_description, status)\n",
    "    print(\"Task added successfully.\")\n",
    "\n",
    "def generate_unique_task_id(username):\n",
    "    \"\"\"Generates a unique task ID for the user.\"\"\"\n",
    "\n",
    "    task_file = get_task_file_path(username)\n",
    "    if not os.path.exists(task_file):\n",
    "        return 1  # Start ID from 1 if no tasks exist yet\n",
    "    try:\n",
    "        with open(task_file, \"r\") as file:\n",
    "            lines = file.readlines()\n",
    "            if not lines:\n",
    "                return 1 # File exisits but is empty\n",
    "            \n",
    "            last_line = lines[-1].strip()\n",
    "            parts = last_line.split(\":\")\n",
    "            \n",
    "            if len(parts) > 0 and parts[0].isdigit(): # check that parts[0] exists and is a digit\n",
    "                last_task_id = int(parts[0])\n",
    "                return last_task_id + 1  # Increment the last task ID\n",
    "            else:\n",
    "                # If the last line doesn't have a valid task ID, start from 1\n",
    "                return 1\n",
    "            \n",
    "    except FileNotFoundError:\n",
    "        return 1\n",
    "    \n",
    "def save_task(username, task_id, task_description, status):\n",
    "    \"\"\"Saves the task to the user's task file.\"\"\"\n",
    "\n",
    "    task_file = get_task_file_path(username)\n",
    "    with open(task_file, \"a\") as file:\n",
    "        file.write(f\"{task_id}:{task_description}:{status}\\n\")\n",
    "\n",
    "def get_task_file_path(username):\n",
    "    \"\"\"Constructs the file path for a user's task file.\"\"\"\n",
    "    return os.path.join(TASKS_DIRECTORY, f\"{username}_tasks.txt\")\n",
    "\n",
    "# Example usage:\n",
    "username = \"sergelafarge\"  # Replace with the desired username\n",
    "add_task(username) # Call add_task to run the code."
   ]
  },
  {
   "cell_type": "markdown",
   "metadata": {},
   "source": [
    "# 3. View Tasks\n",
    "- view_tasks(): This function retrieves all tasks for the logged-in user from their task file and displays them in a formatted way, showing the task ID, description, and status."
   ]
  },
  {
   "cell_type": "code",
   "execution_count": 14,
   "metadata": {},
   "outputs": [
    {
     "name": "stdout",
     "output_type": "stream",
     "text": [
      "Tasks:\n",
      "  ID: sergelafarge_tasks1, Description: sergelafarge, Status: Pending\n"
     ]
    }
   ],
   "source": [
    "def view_tasks(username):\n",
    "    \"\"\"Retrieves and displays all tasks for the logged-in user.\"\"\"\n",
    "    \n",
    "    task_file = get_task_file_path(username)\n",
    "    if not os.path.exists(task_file):\n",
    "        print(\"No tasks found.\")\n",
    "        return\n",
    "    \n",
    "    with open(task_file, \"r\") as file:\n",
    "        tasks = file.readlines()\n",
    "        if not tasks:\n",
    "            print(\"No tasks found.\")\n",
    "            return\n",
    "    \n",
    "        print(\"Tasks:\")\n",
    "        for task in tasks:\n",
    "            task_id, task_description, status = task.strip().split(\":\")\n",
    "            print(f\"  ID: {task_id}, Description: {task_description}, Status: {status}\")\n",
    "view_tasks(username) # Call view_tasks to run the code."
   ]
  },
  {
   "cell_type": "markdown",
   "metadata": {},
   "source": [
    "# 4. Mark a Task as Completed\n",
    "- mark_task_as_completed(): This function prompts the user to enter the ID of the task they want to mark as completed and then calls the update_task_status() function to update the task's status.    \n",
    "- update_task_status(): This function reads the user's task file, finds the task with the given ID, and changes its status to \"Completed\"."
   ]
  },
  {
   "cell_type": "code",
   "execution_count": 17,
   "metadata": {},
   "outputs": [
    {
     "name": "stdout",
     "output_type": "stream",
     "text": [
      "Task status updated.\n"
     ]
    }
   ],
   "source": [
    "def mark_task_as_completed(username):\n",
    "    \"\"\"Allows the user to select a task by ID \n",
    "    and update its status to Completed.\"\"\"\n",
    "    \n",
    "    task_id = input(\"Enter the ID of the task to mark as completed: \")\n",
    "    update_task_status(username, task_id, \"Completed\")\n",
    "    \n",
    "def update_task_status(username, task_id, new_status):\n",
    "    \"\"\"Updates the status of the specified task.\"\"\"\n",
    "    \n",
    "    task_file = get_task_file_path(username)\n",
    "    if not os.path.exists(task_file):\n",
    "        print(\"No tasks found.\")\n",
    "        return\n",
    "    \n",
    "    updated_tasks = []\n",
    "    task_found = False\n",
    "    with open(task_file, \"r\") as file:\n",
    "        for line in file:\n",
    "            stored_task_id, task_description, status = line.strip().split(\":\")\n",
    "            if stored_task_id == task_id:\n",
    "                updated_tasks.append(f\"{stored_task_id}:{task_description}:{new_status}\\n\")\n",
    "                task_found = True\n",
    "            else:\n",
    "                updated_tasks.append(line)\n",
    "    \n",
    "    if task_found:\n",
    "        with open(task_file, \"w\") as file:\n",
    "            file.writelines(updated_tasks)\n",
    "        print(\"Task status updated.\")\n",
    "    else:\n",
    "        print(\"Task not found.\")\n",
    "mark_task_as_completed(username) # Call mark_task_as_completed to run the code."
   ]
  },
  {
   "cell_type": "markdown",
   "metadata": {},
   "source": [
    "# 5. Delete a Task\n",
    "- delete_task(): This function prompts the user for the ID of the task they want to delete and calls the remove_task() function to remove it.    \n",
    "- remove_task(): This function reads the user's task file and removes the task with the specified ID. \n",
    "- intentionally did not delete the task"
   ]
  },
  {
   "cell_type": "code",
   "execution_count": 18,
   "metadata": {},
   "outputs": [
    {
     "name": "stdout",
     "output_type": "stream",
     "text": [
      "Task not found.\n"
     ]
    }
   ],
   "source": [
    "def delete_task(username):\n",
    "    \"\"\"Allows the user to select a task by ID and delete it.\"\"\"\n",
    "    \n",
    "    task_id = input(\"Enter the ID of the task to delete: \")\n",
    "    remove_task(username, task_id)\n",
    "    \n",
    "def remove_task(username, task_id):\n",
    "    \"\"\"Removes the specified task from the user's task list.\"\"\"\n",
    "    \n",
    "    task_file = get_task_file_path(username)\n",
    "    if not os.path.exists(task_file):\n",
    "        print(\"No tasks found.\")\n",
    "        return\n",
    "    \n",
    "    updated_tasks = []\n",
    "    task_found = False\n",
    "    with open(task_file, \"r\") as file:\n",
    "        for line in file:\n",
    "            stored_task_id, task_description, status = line.strip().split(\":\")\n",
    "            if stored_task_id != task_id:  # Keep tasks that are NOT the one to delete\n",
    "                updated_tasks.append(line)\n",
    "            else:\n",
    "                task_found = True\n",
    "    \n",
    "    if task_found:\n",
    "        with open(task_file, \"w\") as file:\n",
    "            file.writelines(updated_tasks)\n",
    "        print(\"Task deleted.\")\n",
    "    else:\n",
    "        print(\"Task not found.\")\n",
    "delete_task(username) # Call delete_task to run the code."
   ]
  },
  {
   "cell_type": "markdown",
   "metadata": {},
   "source": [
    "# 6. Create an Interactive Menu\n",
    "- main_menu(): This function displays the main menu with options to add, view, mark as complete, and delete tasks, and to logout. It takes the user's choice as input and calls the corresponding function. The menu loop continues until the user chooses to logout.    \n",
    "- The if __name__ == \"__main__\": block is the main program flow. It first creates the TASKS_DIRECTORY if it doesn't exist. Then, it enters a loop to present the user with the initial options: register, login, or exit. After successful login, it calls the main_menu() function to allow the user to manage their tasks."
   ]
  },
  {
   "cell_type": "code",
   "execution_count": 20,
   "metadata": {},
   "outputs": [
    {
     "name": "stdout",
     "output_type": "stream",
     "text": [
      "\n",
      "Welcome to the Task Manager!\n",
      "1. Register\n",
      "2. Login\n",
      "3. Exit\n",
      "Thank you for using the Task Manager!\n"
     ]
    }
   ],
   "source": [
    "def main_menu(username):\n",
    "    \"\"\"Displays the main menu and handles user input.\"\"\"\n",
    "    \n",
    "    while True:\n",
    "        print(\"\\nTask Manager Menu:\")\n",
    "        print(\"1. Add a Task\")\n",
    "        print(\"2. View Tasks\")\n",
    "        print(\"3. Mark a Task as Completed\")\n",
    "        print(\"4. Delete a Task\")\n",
    "        print(\"5. Logout\")\n",
    "    \n",
    "        choice = input(\"Enter your choice: \")\n",
    "    \n",
    "        if choice == \"1\":\n",
    "            add_task(username)\n",
    "        elif choice == \"2\":\n",
    "            view_tasks(username)\n",
    "        elif choice == \"3\":\n",
    "            mark_task_as_completed(username)\n",
    "        elif choice == \"4\":\n",
    "            delete_task(username)\n",
    "        elif choice == \"5\":\n",
    "            break  # Exit the loop (logout)\n",
    "        else:\n",
    "            print(\"Invalid choice. Please try again.\")\n",
    "\n",
    "# Main program flow\n",
    "if __name__ == \"__main__\":\n",
    "    # Create the tasks directory if it doesn't exist\n",
    "    if not os.path.exists(TASKS_DIRECTORY):\n",
    "        os.makedirs(TASKS_DIRECTORY)\n",
    "    \n",
    "    while True:\n",
    "        print(\"\\nWelcome to the Task Manager!\")\n",
    "        print(\"1. Register\")\n",
    "        print(\"2. Login\")\n",
    "        print(\"3. Exit\")\n",
    "    \n",
    "        choice = input(\"Enter your choice: \")\n",
    "    \n",
    "        if choice == \"1\":\n",
    "            register_user()\n",
    "        elif choice == \"2\":\n",
    "            username = login_user()\n",
    "            if username:  # If login successful\n",
    "                main_menu(username)\n",
    "        elif choice == \"3\":\n",
    "            break  # Exit the program\n",
    "        else:\n",
    "            print(\"Invalid choice. Please try again.\")\n",
    "    \n",
    "    print(\"Thank you for using the Task Manager!\")\n",
    "# End of the script\n"
   ]
  }
 ],
 "metadata": {
  "kernelspec": {
   "display_name": "Python 3",
   "language": "python",
   "name": "python3"
  },
  "language_info": {
   "codemirror_mode": {
    "name": "ipython",
    "version": 3
   },
   "file_extension": ".py",
   "mimetype": "text/x-python",
   "name": "python",
   "nbconvert_exporter": "python",
   "pygments_lexer": "ipython3",
   "version": "3.13.2"
  }
 },
 "nbformat": 4,
 "nbformat_minor": 2
}
